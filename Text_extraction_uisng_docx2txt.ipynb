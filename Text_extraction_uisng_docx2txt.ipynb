{
 "cells": [
  {
   "cell_type": "markdown",
   "id": "b953c334",
   "metadata": {},
   "source": [
    "# Resume Classification\n",
    "## Business objective:\n",
    "### The document classification solution should significantly reduce the manual human effort in the HRM. It should achieve a higher level of accuracy and automation with minimal human intervention"
   ]
  },
  {
   "cell_type": "code",
   "execution_count": 1,
   "id": "f8f4faf0",
   "metadata": {},
   "outputs": [],
   "source": [
    "import numpy as np \n",
    "import pandas as pd \n",
    "import re\n",
    "import time\n",
    "import string\n",
    "import warnings\n",
    "from tqdm.notebook import tqdm_notebook\n",
    "import os,re\n",
    "import textract as tr\n",
    "import docx2txt\n",
    "\n",
    "# ignoring all the warnings\n",
    "import warnings\n",
    "warnings.filterwarnings('ignore')\n",
    "warnings.filterwarnings(\"ignore\", category=DeprecationWarning)"
   ]
  },
  {
   "cell_type": "markdown",
   "id": "e652bfed",
   "metadata": {},
   "source": [
    "### Extracting data from all the resumes"
   ]
  },
  {
   "cell_type": "code",
   "execution_count": 2,
   "id": "d07ff7b6",
   "metadata": {},
   "outputs": [
    {
     "name": "stdout",
     "output_type": "stream",
     "text": [
      "C:/Users\\Moin Dalvi\\Data_Science\\Projects\\Resume_Classification/Resumes_docx/Peoplesoft\\Peoplesoft Admin_AnubhavSingh.docx\n",
      "C:/Users\\Moin Dalvi\\Data_Science\\Projects\\Resume_Classification/Resumes_docx/Peoplesoft\\Peoplesoft Admin_Murali.docx\n",
      "C:/Users\\Moin Dalvi\\Data_Science\\Projects\\Resume_Classification/Resumes_docx/Peoplesoft\\Peoplesoft Admin_SirazuddinMohammad.docx\n",
      "C:/Users\\Moin Dalvi\\Data_Science\\Projects\\Resume_Classification/Resumes_docx/Peoplesoft\\Peoplesoft Admin_Varkala Vikas.docx\n",
      "C:/Users\\Moin Dalvi\\Data_Science\\Projects\\Resume_Classification/Resumes_docx/Peoplesoft\\PeopleSoft DBA_Ganesh Alladi.docx\n",
      "C:/Users\\Moin Dalvi\\Data_Science\\Projects\\Resume_Classification/Resumes_docx/Peoplesoft\\PeopleSoft DBA_Vivekanand Sayana.docx\n",
      "C:/Users\\Moin Dalvi\\Data_Science\\Projects\\Resume_Classification/Resumes_docx/Peoplesoft\\Peoplesoft Finance_Arun Venu.docx\n",
      "C:/Users\\Moin Dalvi\\Data_Science\\Projects\\Resume_Classification/Resumes_docx/Peoplesoft\\Peoplesoft Finance_Pritam Biswas.docx\n",
      "C:/Users\\Moin Dalvi\\Data_Science\\Projects\\Resume_Classification/Resumes_docx/Peoplesoft\\Peoplesoft Finance_Rahul Ahuja.docx\n",
      "C:/Users\\Moin Dalvi\\Data_Science\\Projects\\Resume_Classification/Resumes_docx/Peoplesoft\\Peoplesoft FSCM_HariNarayana.docx\n",
      "C:/Users\\Moin Dalvi\\Data_Science\\Projects\\Resume_Classification/Resumes_docx/Peoplesoft\\Peoplesoft FSCM_Murali.docx\n",
      "C:/Users\\Moin Dalvi\\Data_Science\\Projects\\Resume_Classification/Resumes_docx/Peoplesoft\\Peoplesoft FSCM_PriyabrataHota.docx\n",
      "C:/Users\\Moin Dalvi\\Data_Science\\Projects\\Resume_Classification/Resumes_docx/Peoplesoft\\Peoplesoft FSCM_R Ahmed.docx\n",
      "C:/Users\\Moin Dalvi\\Data_Science\\Projects\\Resume_Classification/Resumes_docx/Peoplesoft\\Peoplesoft FSCM_SUJATHA.docx\n",
      "C:/Users\\Moin Dalvi\\Data_Science\\Projects\\Resume_Classification/Resumes_docx/Peoplesoft\\Peoplesoft_Admin_Gangareddy.docx\n",
      "C:/Users\\Moin Dalvi\\Data_Science\\Projects\\Resume_Classification/Resumes_docx/Peoplesoft\\Peoplesoft_Admin_G_Ananda Rayudu.docx\n",
      "C:/Users\\Moin Dalvi\\Data_Science\\Projects\\Resume_Classification/Resumes_docx/Peoplesoft\\Peoplesoft_Admin_Priyanka_Ramadoss.docx\n",
      "C:/Users\\Moin Dalvi\\Data_Science\\Projects\\Resume_Classification/Resumes_docx/Peoplesoft\\Peoplesoft_Admin_srinivasarao.docx\n",
      "C:/Users\\Moin Dalvi\\Data_Science\\Projects\\Resume_Classification/Resumes_docx/Peoplesoft\\Peoplesoft_Admin_Vinod Akkala.docx\n",
      "C:/Users\\Moin Dalvi\\Data_Science\\Projects\\Resume_Classification/Resumes_docx/Peoplesoft\\Resume_Subha Santosh_Peoplesoft FSCM.docx\n",
      "C:/Users\\Moin Dalvi\\Data_Science\\Projects\\Resume_Classification/Resumes_docx/React Developer\\React Developer_Deepakreddy.docx\n",
      "C:/Users\\Moin Dalvi\\Data_Science\\Projects\\Resume_Classification/Resumes_docx/React Developer\\React Developer_Haripriya.docx\n",
      "C:/Users\\Moin Dalvi\\Data_Science\\Projects\\Resume_Classification/Resumes_docx/React Developer\\React Developer_Kamalakar Reddy.docx\n",
      "C:/Users\\Moin Dalvi\\Data_Science\\Projects\\Resume_Classification/Resumes_docx/React Developer\\React Developer_Naveen sadhu.docx\n",
      "C:/Users\\Moin Dalvi\\Data_Science\\Projects\\Resume_Classification/Resumes_docx/React Developer\\React Developer_PavasGoswami.docx\n",
      "C:/Users\\Moin Dalvi\\Data_Science\\Projects\\Resume_Classification/Resumes_docx/React Developer\\React Developer_Pragnya.docx\n",
      "C:/Users\\Moin Dalvi\\Data_Science\\Projects\\Resume_Classification/Resumes_docx/React Developer\\React Developer_Sarala Madasu-converted.docx\n",
      "C:/Users\\Moin Dalvi\\Data_Science\\Projects\\Resume_Classification/Resumes_docx/React Developer\\React Developer_Thirupathiamma.docx\n",
      "C:/Users\\Moin Dalvi\\Data_Science\\Projects\\Resume_Classification/Resumes_docx/React Developer\\React Developer_Vinay Reddy.docx\n",
      "C:/Users\\Moin Dalvi\\Data_Science\\Projects\\Resume_Classification/Resumes_docx/React Developer\\React Dev_Krishna Kanth.docx\n",
      "C:/Users\\Moin Dalvi\\Data_Science\\Projects\\Resume_Classification/Resumes_docx/React Developer\\React Dev_Krishna Kanth_Musquare Technologies.docx\n",
      "C:/Users\\Moin Dalvi\\Data_Science\\Projects\\Resume_Classification/Resumes_docx/React Developer\\React JS Developer_AnjaniPriyadarshini.docx\n",
      "C:/Users\\Moin Dalvi\\Data_Science\\Projects\\Resume_Classification/Resumes_docx/React Developer\\React JS Developer_KotaniDurgaprasad[3_1] (1)-converted.docx\n",
      "C:/Users\\Moin Dalvi\\Data_Science\\Projects\\Resume_Classification/Resumes_docx/React Developer\\React JS Developer_Venkatalakshmi (1)-converted.docx\n",
      "C:/Users\\Moin Dalvi\\Data_Science\\Projects\\Resume_Classification/Resumes_docx/React Developer\\Reactjs Developer_kambala sai surendra_Musquare Technologies.docx\n",
      "C:/Users\\Moin Dalvi\\Data_Science\\Projects\\Resume_Classification/Resumes_docx/React Developer\\Reactjs Developer_M Lokesh Babu_Musquare Technologies.docx\n",
      "C:/Users\\Moin Dalvi\\Data_Science\\Projects\\Resume_Classification/Resumes_docx/React Developer\\Reactjs Developer_M Lokesh.docx\n",
      "C:/Users\\Moin Dalvi\\Data_Science\\Projects\\Resume_Classification/Resumes_docx/React Developer\\Reactjs Developer_MD Khizaruddin Rauf _Musquare Technologies.docx\n",
      "C:/Users\\Moin Dalvi\\Data_Science\\Projects\\Resume_Classification/Resumes_docx/React Developer\\Reactjs Developer_Prabakaran_Musquare Technologies.docx\n",
      "C:/Users\\Moin Dalvi\\Data_Science\\Projects\\Resume_Classification/Resumes_docx/React Developer\\Reactjs Developer_Pranish Sonone_Musquare Technologies.docx\n",
      "C:/Users\\Moin Dalvi\\Data_Science\\Projects\\Resume_Classification/Resumes_docx/React Developer\\Reactjs Developer_Ranga Gaganam_Musquare Technologies.docx\n",
      "C:/Users\\Moin Dalvi\\Data_Science\\Projects\\Resume_Classification/Resumes_docx/React Developer\\Reactjs Developer_Shaik Abdul Sharuk_Musquare Technologies.docx\n",
      "C:/Users\\Moin Dalvi\\Data_Science\\Projects\\Resume_Classification/Resumes_docx/SQL Developer\\Anil kumar.docx\n",
      "C:/Users\\Moin Dalvi\\Data_Science\\Projects\\Resume_Classification/Resumes_docx/SQL Developer\\AradhanaTripathi[4_0].docx\n",
      "C:/Users\\Moin Dalvi\\Data_Science\\Projects\\Resume_Classification/Resumes_docx/SQL Developer\\Buddha Vamsi.docx\n",
      "C:/Users\\Moin Dalvi\\Data_Science\\Projects\\Resume_Classification/Resumes_docx/SQL Developer\\kamballapradeep.docx\n",
      "C:/Users\\Moin Dalvi\\Data_Science\\Projects\\Resume_Classification/Resumes_docx/SQL Developer\\Nazeer Basha.docx\n",
      "C:/Users\\Moin Dalvi\\Data_Science\\Projects\\Resume_Classification/Resumes_docx/SQL Developer\\Neeraj Mishra.docx\n",
      "C:/Users\\Moin Dalvi\\Data_Science\\Projects\\Resume_Classification/Resumes_docx/SQL Developer\\premsai.docx\n",
      "C:/Users\\Moin Dalvi\\Data_Science\\Projects\\Resume_Classification/Resumes_docx/SQL Developer\\Priyanka L.docx\n",
      "C:/Users\\Moin Dalvi\\Data_Science\\Projects\\Resume_Classification/Resumes_docx/SQL Developer\\PSyamKumar[2_3].docx\n",
      "C:/Users\\Moin Dalvi\\Data_Science\\Projects\\Resume_Classification/Resumes_docx/SQL Developer\\Rajupavanakumari[2_10].docx\n",
      "C:/Users\\Moin Dalvi\\Data_Science\\Projects\\Resume_Classification/Resumes_docx/SQL Developer\\Ramalakshmi K.docx\n",
      "C:/Users\\Moin Dalvi\\Data_Science\\Projects\\Resume_Classification/Resumes_docx/SQL Developer\\RameshNataru[3_4].docx\n",
      "C:/Users\\Moin Dalvi\\Data_Science\\Projects\\Resume_Classification/Resumes_docx/SQL Developer\\Tatikonda Kiran Kumar.docx\n",
      "C:/Users\\Moin Dalvi\\Data_Science\\Projects\\Resume_Classification/Resumes_docx/SQL Developer\\Vinod B.docx\n",
      "C:/Users\\Moin Dalvi\\Data_Science\\Projects\\Resume_Classification/Resumes_docx/Workday\\ChinnaSubbarayuduM_Hexaware.docx\n",
      "C:/Users\\Moin Dalvi\\Data_Science\\Projects\\Resume_Classification/Resumes_docx/Workday\\Gopi Krishna_Hexaware.docx\n",
      "C:/Users\\Moin Dalvi\\Data_Science\\Projects\\Resume_Classification/Resumes_docx/Workday\\Hari Krishna M_Hexaware.docx\n",
      "C:/Users\\Moin Dalvi\\Data_Science\\Projects\\Resume_Classification/Resumes_docx/Workday\\Harikrishna Akula_Hexaware.docx\n",
      "C:/Users\\Moin Dalvi\\Data_Science\\Projects\\Resume_Classification/Resumes_docx/Workday\\Hima Mendu_Hexaware.docx\n",
      "C:/Users\\Moin Dalvi\\Data_Science\\Projects\\Resume_Classification/Resumes_docx/Workday\\Himaja G_(Hexaware).docx\n",
      "C:/Users\\Moin Dalvi\\Data_Science\\Projects\\Resume_Classification/Resumes_docx/Workday\\J. Sumanth Royal_Hexaware.docx\n",
      "C:/Users\\Moin Dalvi\\Data_Science\\Projects\\Resume_Classification/Resumes_docx/Workday\\Jyotiverma_Heaware.docx\n",
      "C:/Users\\Moin Dalvi\\Data_Science\\Projects\\Resume_Classification/Resumes_docx/Workday\\Madeeswar A_Hexaware.docx\n",
      "C:/Users\\Moin Dalvi\\Data_Science\\Projects\\Resume_Classification/Resumes_docx/Workday\\MooraboyinaGuravaiah_Hexaware.docx\n",
      "C:/Users\\Moin Dalvi\\Data_Science\\Projects\\Resume_Classification/Resumes_docx/Workday\\Naresh Babu Cherukuri_Hexaware.docx\n",
      "C:/Users\\Moin Dalvi\\Data_Science\\Projects\\Resume_Classification/Resumes_docx/Workday\\P V Sai Krishna_ Hexaware.docx\n",
      "C:/Users\\Moin Dalvi\\Data_Science\\Projects\\Resume_Classification/Resumes_docx/Workday\\Punugoti Swetha_Hexaware.docx\n",
      "C:/Users\\Moin Dalvi\\Data_Science\\Projects\\Resume_Classification/Resumes_docx/Workday\\RahulM_Hexaware.docx\n",
      "C:/Users\\Moin Dalvi\\Data_Science\\Projects\\Resume_Classification/Resumes_docx/Workday\\RameshP_Hexaware.docx\n",
      "C:/Users\\Moin Dalvi\\Data_Science\\Projects\\Resume_Classification/Resumes_docx/Workday\\ShireeshKumar_Hexaware.docx\n",
      "C:/Users\\Moin Dalvi\\Data_Science\\Projects\\Resume_Classification/Resumes_docx/Workday\\Sri Krishna S_Hexaware.docx\n",
      "C:/Users\\Moin Dalvi\\Data_Science\\Projects\\Resume_Classification/Resumes_docx/Workday\\Srikanth-Hexaware.docx\n",
      "C:/Users\\Moin Dalvi\\Data_Science\\Projects\\Resume_Classification/Resumes_docx/Workday\\SSKumar_Hexaware.docx\n",
      "C:/Users\\Moin Dalvi\\Data_Science\\Projects\\Resume_Classification/Resumes_docx/Workday\\Venkateswarlu B_Hexaware.docx\n",
      "C:/Users\\Moin Dalvi\\Data_Science\\Projects\\Resume_Classification/Resumes_docx/Workday\\Vinay Kumar_Hexaware.docx\n"
     ]
    }
   ],
   "source": [
    "path_input = r\"C:/Users\\Moin Dalvi\\Data_Science\\Projects\\Resume_Classification/Resumes_docx/\"\n",
    "for folder in os.listdir(path_input):\n",
    "    folder_path = os.path.join(path_input, folder)\n",
    "    for file in os.listdir(folder_path):\n",
    "        if file.endswith('.docx'):\n",
    "            final_path = os.path.join(folder_path, file)\n",
    "            print(final_path)"
   ]
  },
  {
   "cell_type": "code",
   "execution_count": 4,
   "id": "757744e4",
   "metadata": {},
   "outputs": [],
   "source": [
    "file_path = r\"C:/Users\\Moin Dalvi\\Data_Science\\Projects\\Resume_Classification/Resumes_docx\"\n",
    "extracted_data = []\n",
    "profile_names = []\n",
    "\n",
    "for folder in os.listdir(file_path):\n",
    "    folder_path = os.path.join(file_path, folder)\n",
    "    for file in os.listdir(folder_path):\n",
    "        if file.endswith('.docx'):\n",
    "            final_path = os.path.join(folder_path, file)\n",
    "            extracted_data.append((docx2txt.process(final_path)))\n",
    "            profile_names.append(folder)"
   ]
  },
  {
   "cell_type": "code",
   "execution_count": 5,
   "id": "66e80ad4",
   "metadata": {},
   "outputs": [
    {
     "data": {
      "text/plain": [
       "'C:/Users\\\\Moin Dalvi\\\\Data_Science\\\\Projects\\\\Resume_Classification/Resumes_docx\\\\Workday\\\\Vinay Kumar_Hexaware.docx'"
      ]
     },
     "execution_count": 5,
     "metadata": {},
     "output_type": "execute_result"
    }
   ],
   "source": [
    "final_path"
   ]
  },
  {
   "cell_type": "code",
   "execution_count": 6,
   "id": "d1193fd6",
   "metadata": {},
   "outputs": [
    {
     "data": {
      "text/plain": [
       "77"
      ]
     },
     "execution_count": 6,
     "metadata": {},
     "output_type": "execute_result"
    }
   ],
   "source": [
    "len(extracted_data)"
   ]
  },
  {
   "cell_type": "code",
   "execution_count": 7,
   "id": "4c181b76",
   "metadata": {
    "scrolled": false
   },
   "outputs": [
    {
     "data": {
      "text/plain": [
       "['Anubhav Kumar Singh\\t\\t\\n\\n\\n\\nCore Competencies:\\n\\n\\n\\nScripting\\t\\t: Shell Scripting\\n\\n\\n\\nApplication\\t\\t: PeopleSoft HCM, FINANCIALS\\n\\n\\n\\nOperating System\\t: Linux ,Windows\\n\\n\\n\\nWeb/App Servers\\t: Weblogic, Tuxedo\\n\\n\\n\\nRDBMS\\t\\t: Oracle\\n\\n\\n\\nRepository \\t\\t: Github\\n\\n\\n\\nCore Competencies:\\n\\n\\n\\nScripting\\t\\t: Shell Scripting\\n\\n\\n\\nApplication\\t\\t: PeopleSoft HCM, FINANCIALS\\n\\n\\n\\nOperating System\\t: Linux ,Windows\\n\\n\\n\\nWeb/App Servers\\t: Weblogic, Tuxedo\\n\\n\\n\\nRDBMS\\t\\t: Oracle\\n\\n\\n\\nRepository \\t\\t: Github\\n\\n\\n\\n  To work in a globally competitive environment on \\n\\n  challenging assignments that shall yield the \\n\\n  twin benefits of the job satisfaction and a steady-paced \\n\\n  professional growth.\\n\\n\\n\\n\\n\\n\\n\\n\\n\\n\\n\\n\\n\\n \\n\\n\\n\\n\\n\\n \\n\\n\\n\\n\\n\\n Professional Experience\\n\\n\\n\\n 06/2019 - Current\\tHCL\\t\\t\\t\\t\\t\\t\\t\\t\\t\\t\\n\\n\\t\\t\\tCurrent Role: System Admin Offshore\\n\\n\\t\\t\\tSkills : Shell Scripting, Linux , PeopleSoft Administration , Github\\n\\n\\n\\nManaging PeopleSoft HCM and PeopleSoft FSCM production environments along with support environments installed on Linux and Windows OS.\\n\\nInvolved in Day to Day activities such as Project Migration, Database Refresh, System admin changes, Tax updates etc.\\n\\nTroubleshooting of various servers like application servers, Web Servers, Process Scheduler Servers.\\n\\nApplying Tuxedo and WebLogic Middleware CPU patches for various applications.\\n\\nWorking on shell scripting used as integration method for exchange of files to external systems\\n\\nInstallation and troubleshooting of 2-tier setup as per requirement.\\n\\nReviewing Vulnerabilities reported by Security Teams.\\n\\nRenewal of SSL in Weblogic.\\n\\nVulnerability remediation whenever a vulnerability is report by RMIS team.\\n\\nWorked on PUM (PeopleSoft Update Manager) and installation through DPK.\\n\\nWorking Knowledge of Ansible and Docker.\\n\\nDeveloping new Shell scripts and troubleshooting Shell Script failures.\\n\\n\\n\\n\\n\\n 07/2017- 06/2019\\tTechMahindra\\t\\t\\t\\t\\t\\t\\t\\t\\t\\n\\n\\t\\t\\tRole/Project: Application Support through Automation/Devops Tools and PeopleSoft Admin\\n\\n\\t\\t\\tSkills : Shell Scripting, Linux , PeopleSoft Administration, Jenkins, Ansible\\n\\n\\t\\t\\t\\n\\n\\t\\t\\tProject 1: People Tools 8.55 Upgrade & HCM 9.2 Application Upgrade\\n\\n\\t\\t\\tProject 2: Migration of Applications from NTT Cloud and On-premises to AWS Cloud\\n\\n\\n\\nWorked on shell scripting for various application requirement.\\n\\nWorking on Ansible and Jenkins to automated start/stop and various activities of application.\\n\\nBasic knowledge of Docker.\\n\\nApplying SSL certificates on new released applications.\\n\\nWorked on Elastic Search Configuration in PeopleSoft.\\n\\nGained knowledge in AWS Resources..\\n\\nStrong understanding of Unix architecture/Command and trouble shooting in Unix/Linux platform.\\n\\nEfficient in using Configuration Management & Deployment Tool like Ansible.\\n\\nGood experience in job scheduling via crontab and IBM Tivoli Workload Scheduler (TWS).\\n\\nHaving good knowledge in automation using shell scripting \\n\\nContinuous integration management using Jenkins, installing and configuring Jenkins.\\n\\nResponsible for writing Ansible playbook to perform various task\\n\\nManaged administration tasks installation, configuration, applications, troubleshooting, and performance related issue.\\n\\nApplying Tuxedo and WebLogic CPU patches for various applications.\\n\\nWorking on Vulnerabilities reported by Security Teams.\\n\\nReviewing the platform certification information of products, platforms, database servers, web and application servers, browsers, and other products for PeopleTools 8.55.\\n\\nServer Migration to AWS (Amazon Web Service).\\n\\nInstallation of PeopleSoft server components Application Servers, Process Scheduler Servers, Tuxedo, Web logic Servers for New release PeopleTools on Unix/Linux Servers.\\n\\nApplying latest patch to PeopleTools.\\n\\nInstalling and configuring Change assistant for various upgrade passes.\\n\\nCreating and running PeopleTools Upgrade Job for PeopleTools 8.55 Upgrade.\\n\\nSetting up Performance monitor.\\n\\nCreating new app, web and process scheduler domains post upgrade on new Linux severs.\\n\\nTroubleshooting common Domain boot problems.\\n\\nIdentifying and configuring source and target databases in CA for HCM 9.2 application upgrade.\\n\\nWorking with HCM PUM Images.\\n\\nCreating Change packages using PUM and applying to Source/Target databases as per requirement.\\n\\nCreating application upgrade job using change assistant.\\n\\n\\n\\n\\n\\n 09/2015 - 07/2017\\tSRDT Pvt Ltd. (SRM GROUP)\\n\\n\\t\\t\\tRole/Project: PeopleSoft application and Database Admin\\n\\n\\t\\t\\tSkills : PeopleSoft Administration, Weblogic, Tuxedo, App designer, PUM, PeopleTools \\t\\t\\t\\t\\tUpgrade, PeopleSoft Campus Application Upgrade.\\t\\t\\t\\n\\n\\n\\nMaintaining 7 Production Environments with 21 supporting environments installed on Windows server 2008 R2 and Oracle 11g.\\n\\nPossess through knowledge and experience in PeopleSoft architecture, administering PeopleSoft server components Application Servers, Process Scheduler Servers, Tuxedo, Web logic Servers, PIA (PeopleSoft Internet Architecture), Integration Broker, Report Nodes, application issues and technical issues.\\n\\nPeopleSoft Skills with experience in Migrations & Production support of PS Applications\\n\\nExposure in applying PeopleSoft Bundle Updates through Change Assistant.\\n\\nExposure in working on both Windows & UNIX/Linux Environments with Oracle database.\\n\\nWorking knowledge of integration broker.\\n\\nRefreshed Testing, DEV and Pre-PROD from PROD environments.\\n\\nExperience in Troubleshooting of various servers like application servers, Web Servers, Process Scheduler Servers.\\n\\nExperienced in providing 24/7 support on production and development environments.\\n\\nInstallation of Database Servers, Web servers and Application Server and PeopleSoft Application (HRMS 9.2,FSCM9.2, CS9.0, CS 9.2,HRMS 9.2) and People Tool (8.53,8.54, 8.55)\\n\\nInstalled and Configured SES (Secure Enterprise Search) for HRMS Instance.\\n\\nExperience in Installing Oracle Policy Automation, Oracle Policy Modelling and creating OPA Database in existing database (Oracle)\\n\\nImplemented Single Sign On between PeopleSoft Applications.\\n\\nImplemented PeopleSoft Interaction Hub to integrate external content and information with PeopleSoft applications.\\n\\nUpgraded People Tool 8.53 to 8.54 for Campus 9.0Production Environment.\\n\\nUpgraded People Tool 8.53 to 8.55 for Finance 9.2 Testing Environment.\\n\\nUpgraded application CS 9.0 to 9.2.\\n\\nConfigured PUM (PeopleSoft Update Manager) for every new Image.\\n\\nApplying Tax Updates, BUGS and Tailored Change Packages through PUM.\\n\\nUpgraded Oracle Database 11.2.0.1 to 11.2.0.4 using DBUA. \\n\\nCreated Instances on People Tools 8.55 to provide Testing environments.\\n\\nPrepared Upgrade Status reports and sheets.\\n\\nCo-ordinated and provided support for offshore projects.\\n\\nImported Self Signed Certificate into WebLogic to provide secure port access of Instances.\\n\\nSet up of Terminal Server to provide a Central access of People Tools for Technical/Developers.\\n\\nCreated tickets to development team and followed up with them to get the resolution for any error occurred. \\n\\n\\n\\n\\n\\n\\t\\t\\tProjects:\\n\\n\\n\\n\\t\\tClient: DRDO\\n\\n\\t\\tProject: Single Sign On\\n\\n\\t\\tRole: PeopleSoft Admin\\n\\n\\t\\tEnvironment: People Tool 8.50, HRMS 9.1, FSCM 9.1\\n\\n\\n\\n\\t\\tDescription:\\n\\n\\t\\tSingle sign-on (SSO) is a property of access control of multiple related, but independent software \\t\\t\\tsystems. With this property a user logs in with a single ID and password to gain access to a \\t\\t\\tconnected system or systems without using different usernames or passwords.\\n\\n\\n\\n\\n\\n\\t\\tClient: NetApp\\n\\n\\t\\tProject: Support and Maintenance\\n\\n\\t\\tRole: PeopleSoft Admin/L2 Support\\n\\n\\t\\tEnvironment: PeopleTool 8.49, HRMS 8.9\\n\\n\\n\\n\\t\\tDescription:\\n\\n\\t\\tHandled IB related issue.\\n\\n\\t\\tClear process scheduler cache as per weekly maintenance process.\\n\\n\\t\\tHandled PSADMIN related activities.\\n\\n\\n\\n\\n\\n 11/2013 - 05/2015\\tACS                                                                                                                           \\n\\n\\n\\n Personal Details\\n\\n\\n\\n\\n\\nFather’s name\\n\\nRajeev Kumar Singh\\n\\nDate of Birth\\n\\n11/09/1990\\n\\nSex\\n\\nMale\\n\\nLanguage (Read And Write)\\n\\nHindi, English\\n\\nReady to relocate\\n\\nYes\\n\\nEducation\\n\\nB.Tech in Electrical & Electronic Engineering 2012']"
      ]
     },
     "execution_count": 7,
     "metadata": {},
     "output_type": "execute_result"
    }
   ],
   "source": [
    "extracted_data[:1]"
   ]
  },
  {
   "cell_type": "code",
   "execution_count": 8,
   "id": "b2cb855a",
   "metadata": {},
   "outputs": [
    {
     "data": {
      "text/plain": [
       "list"
      ]
     },
     "execution_count": 8,
     "metadata": {},
     "output_type": "execute_result"
    }
   ],
   "source": [
    "type(extracted_data)"
   ]
  },
  {
   "cell_type": "code",
   "execution_count": 9,
   "id": "54272e45",
   "metadata": {},
   "outputs": [
    {
     "data": {
      "text/html": [
       "<div>\n",
       "<style scoped>\n",
       "    .dataframe tbody tr th:only-of-type {\n",
       "        vertical-align: middle;\n",
       "    }\n",
       "\n",
       "    .dataframe tbody tr th {\n",
       "        vertical-align: top;\n",
       "    }\n",
       "\n",
       "    .dataframe thead th {\n",
       "        text-align: right;\n",
       "    }\n",
       "</style>\n",
       "<table border=\"1\" class=\"dataframe\">\n",
       "  <thead>\n",
       "    <tr style=\"text-align: right;\">\n",
       "      <th></th>\n",
       "      <th>Resumes</th>\n",
       "      <th>Profiles</th>\n",
       "    </tr>\n",
       "  </thead>\n",
       "  <tbody>\n",
       "    <tr>\n",
       "      <th>0</th>\n",
       "      <td>Anubhav Kumar Singh\\t\\t\\n\\n\\n\\nCore Competenci...</td>\n",
       "      <td>Peoplesoft</td>\n",
       "    </tr>\n",
       "    <tr>\n",
       "      <th>1</th>\n",
       "      <td>Classification: Internal\\n\\nClassification: In...</td>\n",
       "      <td>Peoplesoft</td>\n",
       "    </tr>\n",
       "    <tr>\n",
       "      <th>2</th>\n",
       "      <td>SIRAZUDDIN M\\n\\n\\tBangalore, INDIA\\t\\n\\n\\n\\n\\n...</td>\n",
       "      <td>Peoplesoft</td>\n",
       "    </tr>\n",
       "    <tr>\n",
       "      <th>3</th>\n",
       "      <td>PeopleSoft Admin\\n\\nVARKALA VIKAS\\n\\n\\n\\nCaree...</td>\n",
       "      <td>Peoplesoft</td>\n",
       "    </tr>\n",
       "    <tr>\n",
       "      <th>4</th>\n",
       "      <td>PeopleSoft Admin/PeopleSoft DBA\\n\\n\\n\\nGanesh ...</td>\n",
       "      <td>Peoplesoft</td>\n",
       "    </tr>\n",
       "    <tr>\n",
       "      <th>...</th>\n",
       "      <td>...</td>\n",
       "      <td>...</td>\n",
       "    </tr>\n",
       "    <tr>\n",
       "      <th>72</th>\n",
       "      <td>Workday Integration Consultant\\n\\n\\n\\nName    ...</td>\n",
       "      <td>Workday</td>\n",
       "    </tr>\n",
       "    <tr>\n",
       "      <th>73</th>\n",
       "      <td>Srikanth (WORKDAY hCM Consultant)\\t           ...</td>\n",
       "      <td>Workday</td>\n",
       "    </tr>\n",
       "    <tr>\n",
       "      <th>74</th>\n",
       "      <td>WORKDAY | HCM | FCM\\n\\nName \\t\\t: Kumar S.S\\n\\...</td>\n",
       "      <td>Workday</td>\n",
       "    </tr>\n",
       "    <tr>\n",
       "      <th>75</th>\n",
       "      <td>Venkateswarlu.B\\t\\t\\t\\t\\t\\t\\t\\tWorkday Consult...</td>\n",
       "      <td>Workday</td>\n",
       "    </tr>\n",
       "    <tr>\n",
       "      <th>76</th>\n",
       "      <td>Vinay kumar .v\\nWorkday Functional Consultant\\...</td>\n",
       "      <td>Workday</td>\n",
       "    </tr>\n",
       "  </tbody>\n",
       "</table>\n",
       "<p>77 rows × 2 columns</p>\n",
       "</div>"
      ],
      "text/plain": [
       "                                              Resumes    Profiles\n",
       "0   Anubhav Kumar Singh\\t\\t\\n\\n\\n\\nCore Competenci...  Peoplesoft\n",
       "1   Classification: Internal\\n\\nClassification: In...  Peoplesoft\n",
       "2   SIRAZUDDIN M\\n\\n\\tBangalore, INDIA\\t\\n\\n\\n\\n\\n...  Peoplesoft\n",
       "3   PeopleSoft Admin\\n\\nVARKALA VIKAS\\n\\n\\n\\nCaree...  Peoplesoft\n",
       "4   PeopleSoft Admin/PeopleSoft DBA\\n\\n\\n\\nGanesh ...  Peoplesoft\n",
       "..                                                ...         ...\n",
       "72  Workday Integration Consultant\\n\\n\\n\\nName    ...     Workday\n",
       "73  Srikanth (WORKDAY hCM Consultant)\\t           ...     Workday\n",
       "74  WORKDAY | HCM | FCM\\n\\nName \\t\\t: Kumar S.S\\n\\...     Workday\n",
       "75  Venkateswarlu.B\\t\\t\\t\\t\\t\\t\\t\\tWorkday Consult...     Workday\n",
       "76  Vinay kumar .v\\nWorkday Functional Consultant\\...     Workday\n",
       "\n",
       "[77 rows x 2 columns]"
      ]
     },
     "execution_count": 9,
     "metadata": {},
     "output_type": "execute_result"
    }
   ],
   "source": [
    "data = pd.DataFrame()\n",
    "data['Resumes'] = extracted_data\n",
    "data['Profiles'] = profile_names\n",
    "data"
   ]
  },
  {
   "cell_type": "code",
   "execution_count": 10,
   "id": "265b40df",
   "metadata": {},
   "outputs": [
    {
     "data": {
      "text/plain": [
       "array(['Peoplesoft', 'React Developer', 'SQL Developer', 'Workday'],\n",
       "      dtype=object)"
      ]
     },
     "execution_count": 10,
     "metadata": {},
     "output_type": "execute_result"
    }
   ],
   "source": [
    "data.Profiles.unique()"
   ]
  },
  {
   "cell_type": "code",
   "execution_count": 13,
   "id": "43f6b352",
   "metadata": {},
   "outputs": [],
   "source": [
    "data.to_csv('Resume2Text_Extracted.csv', index = False )"
   ]
  },
  {
   "cell_type": "code",
   "execution_count": 12,
   "id": "1d9cf856",
   "metadata": {},
   "outputs": [
    {
     "data": {
      "text/plain": [
       "'Anubhav Kumar Singh\\t\\t\\n\\n\\n\\nCore Competencies:\\n\\n\\n\\nScripting\\t\\t: Shell Scripting\\n\\n\\n\\nApplication\\t\\t: PeopleSoft HCM, FINANCIALS\\n\\n\\n\\nOperating System\\t: Linux ,Windows\\n\\n\\n\\nWeb/App Servers\\t: Weblogic, Tuxedo\\n\\n\\n\\nRDBMS\\t\\t: Oracle\\n\\n\\n\\nRepository \\t\\t: Github\\n\\n\\n\\nCore Competencies:\\n\\n\\n\\nScripting\\t\\t: Shell Scripting\\n\\n\\n\\nApplication\\t\\t: PeopleSoft HCM, FINANCIALS\\n\\n\\n\\nOperating System\\t: Linux ,Windows\\n\\n\\n\\nWeb/App Servers\\t: Weblogic, Tuxedo\\n\\n\\n\\nRDBMS\\t\\t: Oracle\\n\\n\\n\\nRepository \\t\\t: Github\\n\\n\\n\\n  To work in a globally competitive environment on \\n\\n  challenging assignments that shall yield the \\n\\n  twin benefits of the job satisfaction and a steady-paced \\n\\n  professional growth.\\n\\n\\n\\n\\n\\n\\n\\n\\n\\n\\n\\n\\n\\n \\n\\n\\n\\n\\n\\n \\n\\n\\n\\n\\n\\n Professional Experience\\n\\n\\n\\n 06/2019 - Current\\tHCL\\t\\t\\t\\t\\t\\t\\t\\t\\t\\t\\n\\n\\t\\t\\tCurrent Role: System Admin Offshore\\n\\n\\t\\t\\tSkills : Shell Scripting, Linux , PeopleSoft Administration , Github\\n\\n\\n\\nManaging PeopleSoft HCM and PeopleSoft FSCM production environments along with support environments installed on Linux and Windows OS.\\n\\nInvolved in Day to Day activities such as Project Migration, Database Refresh, System admin changes, Tax updates etc.\\n\\nTroubleshooting of various servers like application servers, Web Servers, Process Scheduler Servers.\\n\\nApplying Tuxedo and WebLogic Middleware CPU patches for various applications.\\n\\nWorking on shell scripting used as integration method for exchange of files to external systems\\n\\nInstallation and troubleshooting of 2-tier setup as per requirement.\\n\\nReviewing Vulnerabilities reported by Security Teams.\\n\\nRenewal of SSL in Weblogic.\\n\\nVulnerability remediation whenever a vulnerability is report by RMIS team.\\n\\nWorked on PUM (PeopleSoft Update Manager) and installation through DPK.\\n\\nWorking Knowledge of Ansible and Docker.\\n\\nDeveloping new Shell scripts and troubleshooting Shell Script failures.\\n\\n\\n\\n\\n\\n 07/2017- 06/2019\\tTechMahindra\\t\\t\\t\\t\\t\\t\\t\\t\\t\\n\\n\\t\\t\\tRole/Project: Application Support through Automation/Devops Tools and PeopleSoft Admin\\n\\n\\t\\t\\tSkills : Shell Scripting, Linux , PeopleSoft Administration, Jenkins, Ansible\\n\\n\\t\\t\\t\\n\\n\\t\\t\\tProject 1: People Tools 8.55 Upgrade & HCM 9.2 Application Upgrade\\n\\n\\t\\t\\tProject 2: Migration of Applications from NTT Cloud and On-premises to AWS Cloud\\n\\n\\n\\nWorked on shell scripting for various application requirement.\\n\\nWorking on Ansible and Jenkins to automated start/stop and various activities of application.\\n\\nBasic knowledge of Docker.\\n\\nApplying SSL certificates on new released applications.\\n\\nWorked on Elastic Search Configuration in PeopleSoft.\\n\\nGained knowledge in AWS Resources..\\n\\nStrong understanding of Unix architecture/Command and trouble shooting in Unix/Linux platform.\\n\\nEfficient in using Configuration Management & Deployment Tool like Ansible.\\n\\nGood experience in job scheduling via crontab and IBM Tivoli Workload Scheduler (TWS).\\n\\nHaving good knowledge in automation using shell scripting \\n\\nContinuous integration management using Jenkins, installing and configuring Jenkins.\\n\\nResponsible for writing Ansible playbook to perform various task\\n\\nManaged administration tasks installation, configuration, applications, troubleshooting, and performance related issue.\\n\\nApplying Tuxedo and WebLogic CPU patches for various applications.\\n\\nWorking on Vulnerabilities reported by Security Teams.\\n\\nReviewing the platform certification information of products, platforms, database servers, web and application servers, browsers, and other products for PeopleTools 8.55.\\n\\nServer Migration to AWS (Amazon Web Service).\\n\\nInstallation of PeopleSoft server components Application Servers, Process Scheduler Servers, Tuxedo, Web logic Servers for New release PeopleTools on Unix/Linux Servers.\\n\\nApplying latest patch to PeopleTools.\\n\\nInstalling and configuring Change assistant for various upgrade passes.\\n\\nCreating and running PeopleTools Upgrade Job for PeopleTools 8.55 Upgrade.\\n\\nSetting up Performance monitor.\\n\\nCreating new app, web and process scheduler domains post upgrade on new Linux severs.\\n\\nTroubleshooting common Domain boot problems.\\n\\nIdentifying and configuring source and target databases in CA for HCM 9.2 application upgrade.\\n\\nWorking with HCM PUM Images.\\n\\nCreating Change packages using PUM and applying to Source/Target databases as per requirement.\\n\\nCreating application upgrade job using change assistant.\\n\\n\\n\\n\\n\\n 09/2015 - 07/2017\\tSRDT Pvt Ltd. (SRM GROUP)\\n\\n\\t\\t\\tRole/Project: PeopleSoft application and Database Admin\\n\\n\\t\\t\\tSkills : PeopleSoft Administration, Weblogic, Tuxedo, App designer, PUM, PeopleTools \\t\\t\\t\\t\\tUpgrade, PeopleSoft Campus Application Upgrade.\\t\\t\\t\\n\\n\\n\\nMaintaining 7 Production Environments with 21 supporting environments installed on Windows server 2008 R2 and Oracle 11g.\\n\\nPossess through knowledge and experience in PeopleSoft architecture, administering PeopleSoft server components Application Servers, Process Scheduler Servers, Tuxedo, Web logic Servers, PIA (PeopleSoft Internet Architecture), Integration Broker, Report Nodes, application issues and technical issues.\\n\\nPeopleSoft Skills with experience in Migrations & Production support of PS Applications\\n\\nExposure in applying PeopleSoft Bundle Updates through Change Assistant.\\n\\nExposure in working on both Windows & UNIX/Linux Environments with Oracle database.\\n\\nWorking knowledge of integration broker.\\n\\nRefreshed Testing, DEV and Pre-PROD from PROD environments.\\n\\nExperience in Troubleshooting of various servers like application servers, Web Servers, Process Scheduler Servers.\\n\\nExperienced in providing 24/7 support on production and development environments.\\n\\nInstallation of Database Servers, Web servers and Application Server and PeopleSoft Application (HRMS 9.2,FSCM9.2, CS9.0, CS 9.2,HRMS 9.2) and People Tool (8.53,8.54, 8.55)\\n\\nInstalled and Configured SES (Secure Enterprise Search) for HRMS Instance.\\n\\nExperience in Installing Oracle Policy Automation, Oracle Policy Modelling and creating OPA Database in existing database (Oracle)\\n\\nImplemented Single Sign On between PeopleSoft Applications.\\n\\nImplemented PeopleSoft Interaction Hub to integrate external content and information with PeopleSoft applications.\\n\\nUpgraded People Tool 8.53 to 8.54 for Campus 9.0Production Environment.\\n\\nUpgraded People Tool 8.53 to 8.55 for Finance 9.2 Testing Environment.\\n\\nUpgraded application CS 9.0 to 9.2.\\n\\nConfigured PUM (PeopleSoft Update Manager) for every new Image.\\n\\nApplying Tax Updates, BUGS and Tailored Change Packages through PUM.\\n\\nUpgraded Oracle Database 11.2.0.1 to 11.2.0.4 using DBUA. \\n\\nCreated Instances on People Tools 8.55 to provide Testing environments.\\n\\nPrepared Upgrade Status reports and sheets.\\n\\nCo-ordinated and provided support for offshore projects.\\n\\nImported Self Signed Certificate into WebLogic to provide secure port access of Instances.\\n\\nSet up of Terminal Server to provide a Central access of People Tools for Technical/Developers.\\n\\nCreated tickets to development team and followed up with them to get the resolution for any error occurred. \\n\\n\\n\\n\\n\\n\\t\\t\\tProjects:\\n\\n\\n\\n\\t\\tClient: DRDO\\n\\n\\t\\tProject: Single Sign On\\n\\n\\t\\tRole: PeopleSoft Admin\\n\\n\\t\\tEnvironment: People Tool 8.50, HRMS 9.1, FSCM 9.1\\n\\n\\n\\n\\t\\tDescription:\\n\\n\\t\\tSingle sign-on (SSO) is a property of access control of multiple related, but independent software \\t\\t\\tsystems. With this property a user logs in with a single ID and password to gain access to a \\t\\t\\tconnected system or systems without using different usernames or passwords.\\n\\n\\n\\n\\n\\n\\t\\tClient: NetApp\\n\\n\\t\\tProject: Support and Maintenance\\n\\n\\t\\tRole: PeopleSoft Admin/L2 Support\\n\\n\\t\\tEnvironment: PeopleTool 8.49, HRMS 8.9\\n\\n\\n\\n\\t\\tDescription:\\n\\n\\t\\tHandled IB related issue.\\n\\n\\t\\tClear process scheduler cache as per weekly maintenance process.\\n\\n\\t\\tHandled PSADMIN related activities.\\n\\n\\n\\n\\n\\n 11/2013 - 05/2015\\tACS                                                                                                                           \\n\\n\\n\\n Personal Details\\n\\n\\n\\n\\n\\nFather’s name\\n\\nRajeev Kumar Singh\\n\\nDate of Birth\\n\\n11/09/1990\\n\\nSex\\n\\nMale\\n\\nLanguage (Read And Write)\\n\\nHindi, English\\n\\nReady to relocate\\n\\nYes\\n\\nEducation\\n\\nB.Tech in Electrical & Electronic Engineering 2012'"
      ]
     },
     "execution_count": 12,
     "metadata": {},
     "output_type": "execute_result"
    }
   ],
   "source": [
    "data.Resumes[0]"
   ]
  },
  {
   "cell_type": "code",
   "execution_count": null,
   "id": "ed1f97d4",
   "metadata": {},
   "outputs": [],
   "source": []
  },
  {
   "cell_type": "code",
   "execution_count": null,
   "id": "c4e44b8f",
   "metadata": {},
   "outputs": [],
   "source": []
  }
 ],
 "metadata": {
  "kernelspec": {
   "display_name": "Python 3 (ipykernel)",
   "language": "python",
   "name": "python3"
  },
  "language_info": {
   "codemirror_mode": {
    "name": "ipython",
    "version": 3
   },
   "file_extension": ".py",
   "mimetype": "text/x-python",
   "name": "python",
   "nbconvert_exporter": "python",
   "pygments_lexer": "ipython3",
   "version": "3.9.12"
  }
 },
 "nbformat": 4,
 "nbformat_minor": 5
}
